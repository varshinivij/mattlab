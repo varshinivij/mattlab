{
 "cells": [
  {
   "cell_type": "code",
   "execution_count": 1,
   "id": "29c10a35",
   "metadata": {},
   "outputs": [],
   "source": [
    "\n",
    "# Mathematical approach:\n",
    "# 1. Convert to grayscale \n",
    "# 2. Apply smoothing/corrections\n",
    "# 3. Calculate derivative of intensity at each pixel {gradient}\n",
    "# 4. inverted = max_val - gradient\n",
    "# 5. Must apply a threshold function\n",
    "# 6. Return precise coordinates \n",
    "\n",
    "# USE OPENCV OR SCIKIT \n",
    "\n",
    "# Neural network approach:\n",
    "# 1. NEED: where do I find the data for this\n",
    "# 2. Supervised learning, where the boundary regions are marked within the image\n",
    "\n",
    "# MUST SET UP FASTAPI BACKEND\n",
    "\n",
    "\n",
    "# given coordinates, we may have overalpping coordinates for several 1000 genes \n",
    "# puck of tissues --> locations / boundary for the tissue \n",
    "# e- 11 point 5 data (sent by nima)\n",
    "# spatial data: single cell data + location\n",
    "# module 1: extract coordinates module 2: given coordinates \n",
    "# each barcode has a physical position then you collect the bead that gets sequenced and the barcode tells you where it came from\n",
    "\n",
    "# ***"
   ]
  },
  {
   "cell_type": "code",
   "execution_count": null,
   "id": "cf43ba19",
   "metadata": {},
   "outputs": [
    {
     "name": "stdout",
     "output_type": "stream",
     "text": [
      "Image successfully cropped and saved to /Users/varshinivijay/Desktop/Projects/mattlab/matthew_rose_labs/backend/cropped_rose.png\n"
     ]
    }
   ],
   "source": [
    "from PIL import Image\n",
    "\n",
    "def crop_image_with_coordinates(image_path, output_path, coordinates):\n",
    "    \"\"\"\n",
    "    Crops an image based on the provided coordinates and saves the result.\n",
    "    \"\"\"\n",
    "    try:\n",
    "        img = Image.open(image_path)\n",
    "        cropped_img = img.crop(coordinates)\n",
    "        cropped_img.save(output_path)\n",
    "        print(f\"Image successfully cropped and saved to {output_path}\")\n",
    "    except FileNotFoundError:\n",
    "        print(f\"Error: Image file not found at {image_path}\")\n",
    "    except Exception as e:\n",
    "        print(f\"An error occurred: {e}\")\n",
    "\n",
    "\n",
    "crop_image_with_coordinates(\n",
    "    \"/Users/varshinivijay/Desktop/Projects/mattlab/matthew_rose_labs/backend/rose.png\",\n",
    "    \"/Users/varshinivijay/Desktop/Projects/mattlab/matthew_rose_labs/backend/cropped_rose.png\",\n",
    "    (300, 50, 500, 500)\n",
    ")\n"
   ]
  }
 ],
 "metadata": {
  "kernelspec": {
   "display_name": "roselabs",
   "language": "python",
   "name": "python3"
  },
  "language_info": {
   "codemirror_mode": {
    "name": "ipython",
    "version": 3
   },
   "file_extension": ".py",
   "mimetype": "text/x-python",
   "name": "python",
   "nbconvert_exporter": "python",
   "pygments_lexer": "ipython3",
   "version": "3.11.13"
  }
 },
 "nbformat": 4,
 "nbformat_minor": 5
}
